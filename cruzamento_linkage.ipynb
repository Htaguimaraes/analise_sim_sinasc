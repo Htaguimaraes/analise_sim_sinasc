{
  "cells": [
    {
      "cell_type": "code",
      "execution_count": null,
      "metadata": {
        "id": "lGmYtknh5Ltj"
      },
      "outputs": [],
      "source": [
        "import pandas as pd"
      ]
    },
    {
      "cell_type": "code",
      "execution_count": null,
      "metadata": {
        "id": "_xh_HZ6p5VGx"
      },
      "outputs": [],
      "source": [
        "SIM = pd.read_excel('/content/Consolidade 2012 - 2019.xlsx')\n"
      ]
    },
    {
      "cell_type": "code",
      "source": [
        "SIM = SIM[SIM['SEMAGESTAC']>=22]\n",
        "tam_sim = len(SIM)\n",
        "print(tam_sim)"
      ],
      "metadata": {
        "colab": {
          "base_uri": "https://localhost:8080/"
        },
        "id": "WcxOq3eKKw_g",
        "outputId": "69d7b6a2-eba6-4a71-c789-dea440bb00a4"
      },
      "execution_count": null,
      "outputs": [
        {
          "output_type": "stream",
          "name": "stdout",
          "text": [
            "99689\n"
          ]
        }
      ]
    },
    {
      "cell_type": "code",
      "execution_count": null,
      "metadata": {
        "id": "ubcIb3Ap_Ciu"
      },
      "outputs": [],
      "source": [
        "SINASC = pd.read_excel('/content/base_sinasc_10-19 - Copia.xlsx')"
      ]
    },
    {
      "cell_type": "code",
      "source": [
        "SINASC = SINASC[SINASC['SEMAGESTAC']>=22]\n",
        "tam_sinasc = len(SINASC)\n",
        "print(tam_sinasc)"
      ],
      "metadata": {
        "colab": {
          "base_uri": "https://localhost:8080/"
        },
        "id": "fAK4NPtsLHdJ",
        "outputId": "588e36c6-dd2d-4613-d43d-97a379f65eb9"
      },
      "execution_count": null,
      "outputs": [
        {
          "output_type": "stream",
          "name": "stdout",
          "text": [
            "351621\n"
          ]
        }
      ]
    },
    {
      "cell_type": "code",
      "execution_count": null,
      "metadata": {
        "id": "Ln2Hlg20tVsN"
      },
      "outputs": [],
      "source": [
        "total_registrosSIM= len(SIM['ORIGEM'])\n",
        "total_registrosSinasc = len(SINASC)"
      ]
    },
    {
      "cell_type": "code",
      "execution_count": null,
      "metadata": {
        "colab": {
          "base_uri": "https://localhost:8080/"
        },
        "id": "wDOOkI7DvFs7",
        "outputId": "e933578d-0cff-435e-969a-b5850a25a19e"
      },
      "outputs": [
        {
          "output_type": "stream",
          "name": "stdout",
          "text": [
            "99689\n",
            "351621\n"
          ]
        }
      ],
      "source": [
        "print(total_registrosSIM)\n",
        "print(total_registrosSinasc)"
      ]
    },
    {
      "cell_type": "code",
      "execution_count": null,
      "metadata": {
        "colab": {
          "base_uri": "https://localhost:8080/"
        },
        "id": "L1fdwOFQABXt",
        "outputId": "f36fc0af-c60f-4fdc-a7fa-e851138e0247"
      },
      "outputs": [
        {
          "output_type": "stream",
          "name": "stdout",
          "text": [
            "   ORIGEM  TIPOBITO   DTOBITO  HORAOBITO  NATURAL  CODMUNNATU    DTNASC  \\\n",
            "0       1         2   1022019       45.0      NaN         NaN  31012019   \n",
            "1       1         2   5022019     1115.0    823.0    230730.0   5022019   \n",
            "2       1         2  26022019     2000.0    841.0    410690.0  20022019   \n",
            "3       1         2  25022019     1516.0    835.0    354780.0  25022019   \n",
            "4       1         2  24012019     1750.0    835.0    355030.0  23012019   \n",
            "\n",
            "   IDADE  SEXO  RACACOR  ...  TPNIVELINV  NUDIASINF    DTCADINF  MORTEPARTO  \\\n",
            "0    201     1      4.0  ...         NaN        NaN  13032019.0         3.0   \n",
            "1    101     2      4.0  ...         NaN        NaN  13032019.0         3.0   \n",
            "2    206     2      1.0  ...         NaN        NaN   8052019.0         3.0   \n",
            "3     30     1      4.0  ...         NaN        NaN  27032019.0         9.0   \n",
            "4    201     2      4.0  ...         NaN        NaN         NaN         NaN   \n",
            "\n",
            "    DTCONCASO  FONTESINF  ALTCAUSA  CONTADOR  UNID_IDADE  idade_tratada  \n",
            "0  13032019.0        NaN       2.0        62           2            1.0  \n",
            "1  13032019.0        NaN       2.0        63           1            1.0  \n",
            "2  29032019.0        NaN       2.0       409           2            6.0  \n",
            "3         NaN        NaN       NaN       506           3            0.0  \n",
            "4         NaN        NaN       NaN       637           2            1.0  \n",
            "\n",
            "[5 rows x 89 columns]\n"
          ]
        }
      ],
      "source": [
        "\n",
        "print(SIM.head())"
      ]
    },
    {
      "cell_type": "code",
      "execution_count": null,
      "metadata": {
        "colab": {
          "base_uri": "https://localhost:8080/"
        },
        "id": "5BG7KIE8EAL7",
        "outputId": "d010120d-f4df-4d05-a283-7e9b9b9152e5"
      },
      "outputs": [
        {
          "output_type": "stream",
          "name": "stdout",
          "text": [
            "336150\n",
            "64657\n"
          ]
        }
      ],
      "source": [
        "SIM= SIM.dropna(subset=['CODMUNNATU','DTNASC','SEXO','RACACOR','GRAVIDEZ','SEMAGESTAC','GESTACAO','PARTO','PESO','IDADEMAE'])\n",
        "\n",
        "SINASC= SINASC.dropna(subset=['CODMUNNASC','DTNASC','SEXO','RACACOR','GRAVIDEZ','SEMAGESTAC','GESTACAO','PARTO','PESO','IDADEMAE'])\n",
        "print(len(SINASC))\n",
        "\n",
        "print(len(SIM))"
      ]
    },
    {
      "cell_type": "code",
      "execution_count": null,
      "metadata": {
        "colab": {
          "base_uri": "https://localhost:8080/"
        },
        "id": "uaSGtrO_tqB8",
        "outputId": "fbf61868-a9c2-4018-aa2e-dde8802ebc72"
      },
      "outputs": [
        {
          "output_type": "stream",
          "name": "stdout",
          "text": [
            "64657\n",
            "336150\n"
          ]
        }
      ],
      "source": [
        "total_registrosSIM_Limpos= len(SIM)\n",
        "total_registrosSinasc_Limpos = len(SINASC)\n",
        "print(total_registrosSIM_Limpos)\n",
        "print(total_registrosSinasc_Limpos)"
      ]
    },
    {
      "cell_type": "code",
      "execution_count": null,
      "metadata": {
        "id": "xnkOUOk3ESNs"
      },
      "outputs": [],
      "source": [
        "SIM['DTNASC'] = SIM['DTNASC'].astype(int)\n",
        "SIM['CODMUNNATU'] = SIM['CODMUNNATU'].astype(int)\n",
        "SIM['RACACOR'] = SIM['RACACOR'].astype(int)\n",
        "SIM['GRAVIDEZ'] = SIM['GRAVIDEZ'].astype(int)\n",
        "SIM['GESTACAO'] = SIM['GESTACAO'].astype(int)\n",
        "SIM['SEMAGESTAC'] = SIM['SEMAGESTAC'].astype(int)\n",
        "SIM['PARTO'] = SIM['PARTO'].astype(int)\n",
        "SINASC['CODMUNNASC'] = SINASC['CODMUNNASC'].astype(int)\n",
        "SINASC['RACACOR'] = SINASC['RACACOR'].astype(int)\n",
        "SINASC['GRAVIDEZ'] = SINASC['GRAVIDEZ'].astype(int)\n",
        "SINASC['GESTACAO'] = SINASC['GESTACAO'].astype(int)\n",
        "SINASC['SEMAGESTAC'] = SINASC['SEMAGESTAC'].astype(int)\n",
        "SINASC['PARTO'] = SINASC['PARTO'].astype(int)\n",
        "SINASC['SEXO'] = SINASC['SEXO'].astype(int)\n",
        "SIM['PESO']=SIM['PESO'].astype(int)\n",
        "SINASC['PESO'] = SINASC['PESO'].astype(int)\n",
        "SINASC['IDADEMAE'] = SINASC['IDADEMAE'].astype(int)\n",
        "SIM['IDADEMAE'] = SIM['IDADEMAE'].astype(int)\n",
        "\n"
      ]
    },
    {
      "cell_type": "code",
      "execution_count": null,
      "metadata": {
        "colab": {
          "base_uri": "https://localhost:8080/"
        },
        "id": "e1tDatOitVGq",
        "outputId": "d14f0262-3af0-47cd-96f3-a1b1922841c9"
      },
      "outputs": [
        {
          "output_type": "stream",
          "name": "stdout",
          "text": [
            "64657\n",
            "336150\n"
          ]
        }
      ],
      "source": [
        "total_registrosSIM_Limpos2= len(SIM)\n",
        "total_registrosSinasc_Limpos2 = len(SINASC)\n",
        "print(total_registrosSIM_Limpos2)\n",
        "print(total_registrosSinasc_Limpos2)"
      ]
    },
    {
      "cell_type": "code",
      "execution_count": null,
      "metadata": {
        "colab": {
          "base_uri": "https://localhost:8080/"
        },
        "id": "rueCnVqoE1iW",
        "outputId": "754e15fe-7967-45bb-ace1-2bfd26889deb"
      },
      "outputs": [
        {
          "output_type": "stream",
          "name": "stdout",
          "text": [
            "CODMUNNATU    int64\n",
            "DTNASC        int64\n",
            "SEXO          int64\n",
            "RACACOR       int64\n",
            "GRAVIDEZ      int64\n",
            "SEMAGESTAC    int64\n",
            "GESTACAO      int64\n",
            "PARTO         int64\n",
            "PESO          int64\n",
            "IDADEMAE      int64\n",
            "dtype: object\n",
            "CODMUNNASC    int64\n",
            "DTNASC        int64\n",
            "SEXO          int64\n",
            "RACACOR       int64\n",
            "GRAVIDEZ      int64\n",
            "SEMAGESTAC    int64\n",
            "GESTACAO      int64\n",
            "PARTO         int64\n",
            "PESO          int64\n",
            "IDADEMAE      int64\n",
            "dtype: object\n"
          ]
        }
      ],
      "source": [
        "chavesim = ['CODMUNNATU','DTNASC','SEXO','RACACOR','GRAVIDEZ','SEMAGESTAC','GESTACAO','PARTO','PESO','IDADEMAE']\n",
        "tiposSim = SIM[chavesim].dtypes\n",
        "print(tiposSim)\n",
        "\n",
        "chavesinasc = ['CODMUNNASC','DTNASC','SEXO','RACACOR','GRAVIDEZ','SEMAGESTAC','GESTACAO','PARTO','PESO','IDADEMAE']\n",
        "tiposSinasc = SINASC[chavesinasc].dtypes\n",
        "print(tiposSinasc)"
      ]
    },
    {
      "cell_type": "code",
      "execution_count": null,
      "metadata": {
        "colab": {
          "base_uri": "https://localhost:8080/"
        },
        "id": "W9ZD-wkiSwUe",
        "outputId": "93b1a14a-9752-43f6-d1b1-5aed9d8e6918"
      },
      "outputs": [
        {
          "output_type": "stream",
          "name": "stdout",
          "text": [
            "64657\n"
          ]
        }
      ],
      "source": [
        "SIM= SIM[SIM['SEMAGESTAC']<=31]\n",
        "print(len(SIM))"
      ]
    },
    {
      "cell_type": "code",
      "execution_count": null,
      "metadata": {
        "id": "kPZmcDZ7FN2t"
      },
      "outputs": [],
      "source": [
        "SIM['Chave'] = SIM.apply(lambda row: row['CODMUNNATU']+ row['DTNASC'] + row['SEXO']+ row['RACACOR'] +row['GRAVIDEZ'] + row['SEMAGESTAC'] + row['GESTACAO']+row['PARTO'] +row['PESO']+ row['IDADEMAE'] , axis =1)\n",
        "SIM = SIM.dropna(subset = ['Chave'])\n"
      ]
    },
    {
      "cell_type": "code",
      "execution_count": null,
      "metadata": {
        "id": "mZn2sGFvFQ_b"
      },
      "outputs": [],
      "source": [
        "SINASC['Chave'] = SINASC.apply(lambda row: row['CODMUNNASC']+ row['DTNASC'] + row['SEXO']+ row['RACACOR'] +row['GRAVIDEZ'] + row['SEMAGESTAC'] + row['GESTACAO']+row['PARTO'] +row['PESO'] + row['IDADEMAE'], axis =1)\n",
        "SINASC = SINASC.dropna(subset=['Chave'])"
      ]
    },
    {
      "cell_type": "code",
      "execution_count": null,
      "metadata": {
        "colab": {
          "base_uri": "https://localhost:8080/",
          "height": 1000
        },
        "id": "KXZP3ve3FUdC",
        "outputId": "ec8ddeb8-e4ae-4bd6-d1cc-b92f9a66ee7d"
      },
      "outputs": [
        {
          "output_type": "stream",
          "name": "stdout",
          "text": [
            "64038\n",
            "325410\n"
          ]
        },
        {
          "output_type": "display_data",
          "data": {
            "text/plain": [
              "<Figure size 640x480 with 1 Axes>"
            ],
            "image/png": "[encoded data removed]"
          },
          "metadata": {}
        },
        {
          "output_type": "stream",
          "name": "stdout",
          "text": [
            "64657\n",
            "64038\n",
            "       ORIGEM_x  TIPOBITO   DTOBITO  HORAOBITO  NATURAL  CODMUNNATU_x  \\\n",
            "0             1         2   5022019     1115.0    823.0        230730   \n",
            "1             1         2  26022019     2000.0    841.0        410690   \n",
            "2             1         2  25022019     1516.0    835.0        354780   \n",
            "3             1         2  24012019     1750.0    835.0        355030   \n",
            "4             1         2  17022019     2145.0    824.0        240810   \n",
            "...         ...       ...       ...        ...      ...           ...   \n",
            "27043         1         2  16032012      620.0      NaN        261160   \n",
            "27044         1         2  29012012      130.0      NaN        261160   \n",
            "27045         1         2  29012012      130.0      NaN        261160   \n",
            "27046         1         2  23112012      315.0      NaN        261160   \n",
            "27047         1         2  12062012     1530.0      NaN        220840   \n",
            "\n",
            "       DTNASC_x  IDADE  SEXO_x  RACACOR_x  ...  TPDOCRESP  DTDECLARAC  \\\n",
            "0       5022019    101       2          4  ...        4.0   5022019.0   \n",
            "1      20022019    206       2          1  ...        0.0  20022019.0   \n",
            "2      25022019     30       1          4  ...        3.0  25022019.0   \n",
            "3      23012019    201       2          4  ...        4.0  24012019.0   \n",
            "4      16022019    201       1          4  ...        3.0  18022019.0   \n",
            "...         ...    ...     ...        ...  ...        ...         ...   \n",
            "27043  14032012    202       2          2  ...        4.0  14062017.0   \n",
            "27044   3082011    305       2          4  ...        NaN         NaN   \n",
            "27045   3082011    305       2          4  ...        4.0   3102018.0   \n",
            "27046  22112012    201       1          4  ...        NaN         NaN   \n",
            "27047  12062012    104       1          4  ...        NaN         NaN   \n",
            "\n",
            "       ESCMAEAGR1_y  STDNEPIDEM  STDNNOVA  CODPAISRES  TPROBSON  PARIDADE  \\\n",
            "0               5.0         0.0       1.0         1.0      10.0       1.0   \n",
            "1               6.0         0.0       1.0         1.0      10.0       0.0   \n",
            "2               6.0         0.0       1.0         1.0       7.0       1.0   \n",
            "3               5.0         0.0       1.0         1.0       7.0       1.0   \n",
            "4              12.0         0.0       1.0         1.0      10.0       1.0   \n",
            "...             ...         ...       ...         ...       ...       ...   \n",
            "27043           3.0         0.0       1.0         NaN      11.0       1.0   \n",
            "27044          12.0         0.0       1.0         1.0       NaN       NaN   \n",
            "27045           6.0         0.0       1.0         1.0      10.0       1.0   \n",
            "27046           NaN         0.0       1.0         1.0      10.0       NaN   \n",
            "27047           NaN         0.0       1.0         1.0      10.0       NaN   \n",
            "\n",
            "       KOTELCHUCK  CONTADOR_y  \n",
            "0             4.0      281782  \n",
            "1             3.0     1174725  \n",
            "2             2.0     1004590  \n",
            "3             3.0     1044539  \n",
            "4             3.0      316434  \n",
            "...           ...         ...  \n",
            "27043         3.0       35233  \n",
            "27044         NaN       37608  \n",
            "27045         3.0     1836163  \n",
            "27046         NaN      127748  \n",
            "27047         NaN        3595  \n",
            "\n",
            "[27048 rows x 151 columns]\n"
          ]
        }
      ],
      "source": [
        "import matplotlib.pyplot as plt\n",
        "# Cruzar os DataFrames baseados na chave\n",
        "df_cruzado = pd.merge(SIM, SINASC, on='Chave', how='inner')\n",
        "quantidade_valores_unicos = SIM['Chave'].nunique()\n",
        "quantidade_valores_unicosSinasc = SINASC['Chave'].nunique()\n",
        "print(quantidade_valores_unicos)\n",
        "print(quantidade_valores_unicosSinasc)\n",
        "# Calcular a quantidade de registros encontrados e não encontrados\n",
        "registros_encontrados = len(df_cruzado)\n",
        "registros_nao_encontrados = len(SIM) - registros_encontrados\n",
        "\n",
        "# Criar uma lista com os rótulos para o gráfico\n",
        "labels = ['Encontrados', 'Não Encontrados']\n",
        "\n",
        "# Criar uma lista com os valores para o gráfico\n",
        "valores = [registros_encontrados, registros_nao_encontrados]\n",
        "\n",
        "# Criar o gráfico de barras\n",
        "plt.bar(labels, valores)\n",
        "\n",
        "# Adicionar rótulos aos valores nas barras\n",
        "for i, v in enumerate(valores):\n",
        "    plt.text(i, v, str(v), ha='center', va='bottom')\n",
        "\n",
        "# Definir o título do gráfico\n",
        "plt.title('Registros Encontrados vs. Não Encontrados')\n",
        "\n",
        "# Exibir o gráfico\n",
        "plt.show()\n",
        "total_SIM = len(SIM)\n",
        "unique =quantidade_valores_unicos = SIM['Chave'].nunique()\n",
        "print(total_SIM)\n",
        "\n",
        "print(unique)\n",
        "print(df_cruzado)\n",
        "arquivo_cruzado = df_cruzado.to_excel('cruzamento.xlsx')"
      ]
    }
  ],
  "metadata": {
    "colab": {
      "provenance": []
    },
    "kernelspec": {
      "display_name": "Python 3",
      "name": "python3"
    },
    "language_info": {
      "name": "python"
    }
  },
  "nbformat": 4,
  "nbformat_minor": 0
}