{
  "cells": [
    {
      "cell_type": "code",
      "execution_count": null,
      "metadata": {
        "id": "LeLGiLxG3kpC"
      },
      "outputs": [],
      "source": [
        "\n",
        "import pandas as pd\n",
        "\n",
        "anos_sim = [2012] # mudar o ano de acordo com o desejado\n",
        "\n",
        "def dadosSim(anos_sim):\n",
        "    base_url = 'https://diaad.s3.sa-east-1.amazonaws.com/sim/Mortalidade_Geral_'\n",
        "    sim = []\n",
        "\n",
        "    for i in anos_sim:\n",
        "        i = str(i)\n",
        "        url = base_url + i + '.csv'\n",
        "\n",
        "        if i == '2019':\n",
        "            dados_sim = pd.read_csv(url, encoding=\"ISO-8859-1\", sep=\";\")\n",
        "        else:\n",
        "            dados_sim = pd.read_csv(url, encoding=\"ISO-8859-1\", sep=\";\", header=0)\n",
        "        dados_sim['IDADE'].notna()# limpa os dados do dataframe onde não existe informação de idade\n",
        "        dados_sim= dados_sim.dropna(subset= ['DTNASC'])\n",
        "\n",
        "        dados_sim['IDADE'] = dados_sim['IDADE'].astype(str)  # Converte para tipo string se necessário\n",
        "\n",
        "        dados_sim['UNID_IDADE'] = dados_sim['IDADE'].str[0] # retira apenas o digito inicial que indica a unidade de grandeza do tempo de vida (anos, meses, dias e horas)\n",
        "\n",
        "        dados_sim['idade_tratada'] = dados_sim['IDADE'].str[1:] # extrai os demais digitos que informam o tempo de vida\n",
        "\n",
        "        #filtrando apenas as crianças de até um ano de idade\n",
        "        # unidades: 1 = minuto , 2 = hora, 3 = mês, 4= ano, 5= maior que 100 anos\n",
        "\n",
        "\n",
        "        filtro_unidade_idade = dados_sim[dados_sim['UNID_IDADE'].isin([ '2', '1','3'])]\n",
        "        filtro_idade = dados_sim[dados_sim['IDADE'] == 401.0]\n",
        "\n",
        "        filtro_final_idade = pd.concat([filtro_idade, filtro_unidade_idade,])\n",
        "\n",
        "\n",
        "\n",
        "\n",
        "\n",
        "\n",
        "        sim.append(filtro_final_idade)\n",
        "\n",
        "    consolidado = pd.concat(sim)\n",
        "    consolidado.to_csv(\"Consolidado_SIM.csv\", index=False)\n",
        "\n",
        "    return consolidado\n"
      ]
    },
    {
      "cell_type": "code",
      "execution_count": null,
      "metadata": {
        "colab": {
          "base_uri": "https://localhost:8080/"
        },
        "id": "cuHBrcEa59jy",
        "outputId": "0d67713a-a68b-4669-c096-844d56ffb382"
      },
      "outputs": [
        {
          "output_type": "stream",
          "name": "stderr",
          "text": [
            "<ipython-input-1-b24e4fcac40d>:14: DtypeWarning: Columns (66) have mixed types. Specify dtype option on import or set low_memory=False.\n",
            "  dados_sim = pd.read_csv(url, encoding=\"ISO-8859-1\", sep=\";\")\n"
          ]
        }
      ],
      "source": [
        "SIM = dadosSim(anos_sim)"
      ]
    },
    {
      "cell_type": "code",
      "execution_count": null,
      "metadata": {
        "colab": {
          "base_uri": "https://localhost:8080/"
        },
        "id": "nIFqjEFpKxBx",
        "outputId": "613b8935-a0af-425d-8e9b-09730a9cb5d4"
      },
      "outputs": [
        {
          "output_type": "stream",
          "name": "stdout",
          "text": [
            "         ORIGEM  TIPOBITO   DTOBITO  HORAOBITO  NATURAL  CODMUNNATU  \\\n",
            "24            1         2  15022019      145.0    835.0    352010.0   \n",
            "58            1         2   1022019       45.0      NaN         NaN   \n",
            "59            1         2   5022019     1115.0    823.0    230730.0   \n",
            "86            1         2  13022019     1353.0    833.0    330455.0   \n",
            "109           1         2   4022019      650.0    822.0    220770.0   \n",
            "...         ...       ...       ...        ...      ...         ...   \n",
            "1349785       1         2   9072019        NaN    813.0    130230.0   \n",
            "1349786       1         2  23072019     1630.0    815.0    150375.0   \n",
            "1349787       1         2  27032019     1635.0    813.0    130390.0   \n",
            "1349791       1         2  11072019        NaN    813.0    130140.0   \n",
            "1349795       1         2   3082019     1800.0    813.0    130406.0   \n",
            "\n",
            "             DTNASC IDADE  SEXO  RACACOR  ...  TPNIVELINV  NUDIASINF  \\\n",
            "24       15032018.0   311     2      1.0  ...         NaN        NaN   \n",
            "58       31012019.0   201     1      4.0  ...         NaN        NaN   \n",
            "59        5022019.0   101     2      4.0  ...         NaN        NaN   \n",
            "86       12022019.0   120     1      4.0  ...         NaN        NaN   \n",
            "109      30082018.0   305     1      4.0  ...         NaN        NaN   \n",
            "...             ...   ...   ...      ...  ...         ...        ...   \n",
            "1349785   7072019.0   202     1      5.0  ...         NaN        NaN   \n",
            "1349786  23072019.0   110     2      5.0  ...         NaN        NaN   \n",
            "1349787  15082018.0   307     2      5.0  ...         NaN        NaN   \n",
            "1349791   6072019.0   205     1      5.0  ...         NaN        NaN   \n",
            "1349795   2082019.0   201     1      5.0  ...         NaN        NaN   \n",
            "\n",
            "           DTCADINF  MORTEPARTO   DTCONCASO  FONTESINF  ALTCAUSA  CONTADOR  \\\n",
            "24       22032019.0         3.0  22032019.0        NaN       2.0        26   \n",
            "58       13032019.0         3.0  13032019.0        NaN       2.0        62   \n",
            "59       13032019.0         3.0  13032019.0        NaN       2.0        63   \n",
            "86       27052019.0         3.0  27052019.0        NaN       1.0        90   \n",
            "109      13032019.0         3.0   7022019.0        NaN       2.0       114   \n",
            "...             ...         ...         ...        ...       ...       ...   \n",
            "1349785   6082020.0         3.0   6082020.0        NaN       2.0   1378891   \n",
            "1349786   9032020.0         3.0  28022020.0        NaN       1.0   1378892   \n",
            "1349787  26082019.0         9.0  29072019.0        NaN       2.0   1378893   \n",
            "1349791         NaN         NaN         NaN        NaN       NaN   1378897   \n",
            "1349795  23102019.0         3.0  16082019.0        NaN       1.0   1378901   \n",
            "\n",
            "         UNID_IDADE  idade_tratada  \n",
            "24                3             11  \n",
            "58                2             01  \n",
            "59                1             01  \n",
            "86                1             20  \n",
            "109               3             05  \n",
            "...             ...            ...  \n",
            "1349785           2             02  \n",
            "1349786           1             10  \n",
            "1349787           3             07  \n",
            "1349791           2             05  \n",
            "1349795           2             01  \n",
            "\n",
            "[34075 rows x 89 columns]\n"
          ]
        }
      ],
      "source": [
        "print(SIM)"
      ]
    },
    {
      "cell_type": "code",
      "execution_count": null,
      "metadata": {
        "id": "pitiIgbKDR91"
      },
      "outputs": [],
      "source": [
        "# SINASC\n",
        "\n",
        "\n",
        "anos_sinasc = [2019,2018]\n",
        "def dadosSinasc(anos_sinasc):\n",
        " base_url = 'https://diaad.s3.sa-east-1.amazonaws.com/sinasc/SINASC_'\n",
        " sinasc = []\n",
        " for j in anos_sinasc:\n",
        "  j= str(j)\n",
        "\n",
        "  url= base_url+j+'.csv'\n",
        "\n",
        "  if j=='1996':\n",
        "    dados_sinasc = pd.read_csv(url, encoding=\"ISO-8859-1\", sep=\";\")\n",
        "  else:\n",
        "    dados_sinasc = pd.read_csv(url, encoding=\"ISO-8859-1\", sep=\";\", header=0)\n",
        "\n",
        "  sinasc30s =dados_sinasc[dados_sinasc['GESTACAO']<=3]\n",
        "\n",
        "  sinasc.append(sinasc30s)\n",
        "\n",
        " consolidado = pd.concat(sinasc)\n",
        " consolidado.to_csv(\"Consolidado_SINASC.csv\", index=False)\n",
        "\n",
        " return consolidado\n"
      ]
    },
    {
      "cell_type": "code",
      "execution_count": null,
      "metadata": {
        "colab": {
          "base_uri": "https://localhost:8080/"
        },
        "id": "X4y3qEk0Dj0D",
        "outputId": "d156f204-4db5-4cdf-e238-e0342415c0e5"
      },
      "outputs": [
        {
          "output_type": "stream",
          "name": "stderr",
          "text": [
            "<ipython-input-4-7a62439c343b>:16: DtypeWarning: Columns (32) have mixed types. Specify dtype option on import or set low_memory=False.\n",
            "  dados_sinasc = pd.read_csv(url, encoding=\"ISO-8859-1\", sep=\";\", header=0)\n",
            "<ipython-input-4-7a62439c343b>:16: DtypeWarning: Columns (32) have mixed types. Specify dtype option on import or set low_memory=False.\n",
            "  dados_sinasc = pd.read_csv(url, encoding=\"ISO-8859-1\", sep=\";\", header=0)\n"
          ]
        },
        {
          "output_type": "stream",
          "name": "stdout",
          "text": [
            "         ORIGEM   CODESTAB  CODMUNNASC  LOCNASC  IDADEMAE  ESTCIVMAE  ESCMAE  \\\n",
            "71            1  2001020.0      120005        2      19.0        1.0     4.0   \n",
            "163           1  2001500.0      120010        1      42.0        5.0     NaN   \n",
            "254           1  2001500.0      120010        1      19.0        5.0     4.0   \n",
            "295           1  2001500.0      120010        1      23.0        5.0     4.0   \n",
            "460           1  2001500.0      120010        1      28.0        2.0     5.0   \n",
            "...         ...        ...         ...      ...       ...        ...     ...   \n",
            "2944607       1  2452383.0      210530        1      24.0        1.0     4.0   \n",
            "2944649       1  2452383.0      210530        1      27.0        1.0     4.0   \n",
            "2944706       1  2452383.0      210530        1      19.0        1.0     4.0   \n",
            "2944742       1  2452383.0      210530        1      18.0        1.0     4.0   \n",
            "2944743       1  2452383.0      210530        1      18.0        1.0     4.0   \n",
            "\n",
            "         CODOCUPMAE  QTDFILVIVO  QTDFILMORT  ...  TPDOCRESP  DTDECLARAC  \\\n",
            "71         999991.0         1.0         0.0  ...        NaN         NaN   \n",
            "163        999992.0         4.0         0.0  ...        3.0   4022019.0   \n",
            "254        612005.0         1.0         1.0  ...        3.0  12032019.0   \n",
            "295             NaN         NaN         NaN  ...        3.0  23032019.0   \n",
            "460        223115.0         NaN         NaN  ...        3.0  22052019.0   \n",
            "...             ...         ...         ...  ...        ...         ...   \n",
            "2944607    622105.0         1.0         0.0  ...        5.0  11092018.0   \n",
            "2944649    999992.0         1.0         0.0  ...        5.0  11102018.0   \n",
            "2944706    999992.0         0.0         0.0  ...        5.0  20112018.0   \n",
            "2944742    999992.0         1.0         0.0  ...        5.0  15122018.0   \n",
            "2944743    999992.0         1.0         0.0  ...        5.0  15122018.0   \n",
            "\n",
            "         ESCMAEAGR1  STDNEPIDEM  STDNNOVA  CODPAISRES  TPROBSON  PARIDADE  \\\n",
            "71              NaN         0.0         1         1.0        11         1   \n",
            "163             NaN         0.0         1         1.0        10         1   \n",
            "254            12.0         0.0         1         1.0        10         1   \n",
            "295            12.0         0.0         1         1.0        10         0   \n",
            "460             8.0         0.0         1         1.0        10         0   \n",
            "...             ...         ...       ...         ...       ...       ...   \n",
            "2944607         6.0         0.0         1         1.0        10         1   \n",
            "2944649         6.0         0.0         1         1.0        10         1   \n",
            "2944706         5.0         0.0         1         1.0        10         0   \n",
            "2944742         4.0         0.0         1         1.0        10         1   \n",
            "2944743         4.0         0.0         1         1.0         8         1   \n",
            "\n",
            "         KOTELCHUCK  CONTADOR  \n",
            "71                9     13820  \n",
            "163               4     13912  \n",
            "254               1     14003  \n",
            "295               3     14045  \n",
            "460               4     14210  \n",
            "...             ...       ...  \n",
            "2944607           2   1707090  \n",
            "2944649           4   1707833  \n",
            "2944706           3   1708614  \n",
            "2944742           3   1709184  \n",
            "2944743           3   1709185  \n",
            "\n",
            "[90491 rows x 61 columns]\n"
          ]
        }
      ],
      "source": [
        "SINASC = dadosSinasc(anos_sinasc)\n",
        "print(SINASC)"
      ]
    },
    {
      "cell_type": "code",
      "execution_count": null,
      "metadata": {
        "colab": {
          "base_uri": "https://localhost:8080/"
        },
        "id": "Md5KrnarE8wW",
        "outputId": "1239046c-aea1-4bd8-fb8e-c1c2bc15d507"
      },
      "outputs": [
        {
          "output_type": "stream",
          "name": "stdout",
          "text": [
            "Index(['ORIGEM', 'CODMUNNATU', 'DTNASC', 'SEXO', 'RACACOR', 'CODMUNRES',\n",
            "       'CODESTAB', 'IDADEMAE', 'ESCMAE', 'ESCMAE2010', 'SERIESCMAE',\n",
            "       'QTDFILVIVO', 'QTDFILMORT', 'GRAVIDEZ', 'SEMAGESTAC', 'GESTACAO',\n",
            "       'PARTO', 'PESO', 'NUMEROLOTE', 'DTCADASTRO', 'VERSAOSIST', 'DTRECEBIM',\n",
            "       'DTRECORIGA', 'ESCMAEAGR1', 'DIFDATA', 'CONTADOR'],\n",
            "      dtype='object')\n"
          ]
        }
      ],
      "source": [
        "# compara as colunas em comum nas duas bases\n",
        "colunas_comuns = SIM.columns.intersection(SINASC.columns)\n",
        "#mostra os resultados da comparação\n",
        "print(colunas_comuns)"
      ]
    },
    {
      "cell_type": "code",
      "execution_count": null,
      "metadata": {
        "colab": {
          "base_uri": "https://localhost:8080/"
        },
        "id": "G16sl-kikTrw",
        "outputId": "d4826976-fcd8-4f4a-a9d8-8b63bf85dc54"
      },
      "outputs": [
        {
          "output_type": "stream",
          "name": "stdout",
          "text": [
            "     ORIGEM  TIPOBITO   DTOBITO  HORAOBITO  NATURAL  CODMUNNATU      DTNASC  \\\n",
            "24        1         2  15022019      145.0    835.0    352010.0  15032018.0   \n",
            "59        1         2   5022019     1115.0    823.0    230730.0   5022019.0   \n",
            "86        1         2  13022019     1353.0    833.0    330455.0  12022019.0   \n",
            "109       1         2   4022019      650.0    822.0    220770.0  30082018.0   \n",
            "255       1         2   1012019     2100.0    812.0    120040.0  11062018.0   \n",
            "\n",
            "    IDADE  SEXO  RACACOR  ...  TPNIVELINV  NUDIASINF    DTCADINF  MORTEPARTO  \\\n",
            "24    311     2      1.0  ...         NaN        NaN  22032019.0         3.0   \n",
            "59    101     2      4.0  ...         NaN        NaN  13032019.0         3.0   \n",
            "86    120     1      4.0  ...         NaN        NaN  27052019.0         3.0   \n",
            "109   305     1      4.0  ...         NaN        NaN  13032019.0         3.0   \n",
            "255   306     1      4.0  ...         NaN        NaN  15072019.0         3.0   \n",
            "\n",
            "      DTCONCASO  FONTESINF  ALTCAUSA  CONTADOR  UNID_IDADE  idade_tratada  \n",
            "24   22032019.0        NaN       2.0        26           3             11  \n",
            "59   13032019.0        NaN       2.0        63           1             01  \n",
            "86   27052019.0        NaN       1.0        90           1             20  \n",
            "109   7022019.0        NaN       2.0       114           3             05  \n",
            "255  16052019.0        NaN       2.0       260           3             06  \n",
            "\n",
            "[5 rows x 89 columns]\n",
            "     ORIGEM   CODESTAB  CODMUNNASC  LOCNASC  IDADEMAE  ESTCIVMAE  ESCMAE  \\\n",
            "71        1  2001020.0      120005        2      19.0        1.0     4.0   \n",
            "163       1  2001500.0      120010        1      42.0        5.0     NaN   \n",
            "254       1  2001500.0      120010        1      19.0        5.0     4.0   \n",
            "295       1  2001500.0      120010        1      23.0        5.0     4.0   \n",
            "460       1  2001500.0      120010        1      28.0        2.0     5.0   \n",
            "\n",
            "     CODOCUPMAE  QTDFILVIVO  QTDFILMORT  ...  TPDOCRESP  DTDECLARAC  \\\n",
            "71     999991.0         1.0         0.0  ...        NaN         NaN   \n",
            "163    999992.0         4.0         0.0  ...        3.0   4022019.0   \n",
            "254    612005.0         1.0         1.0  ...        3.0  12032019.0   \n",
            "295         NaN         NaN         NaN  ...        3.0  23032019.0   \n",
            "460    223115.0         NaN         NaN  ...        3.0  22052019.0   \n",
            "\n",
            "     ESCMAEAGR1  STDNEPIDEM  STDNNOVA  CODPAISRES  TPROBSON  PARIDADE  \\\n",
            "71          NaN         0.0         1         1.0        11         1   \n",
            "163         NaN         0.0         1         1.0        10         1   \n",
            "254        12.0         0.0         1         1.0        10         1   \n",
            "295        12.0         0.0         1         1.0        10         0   \n",
            "460         8.0         0.0         1         1.0        10         0   \n",
            "\n",
            "     KOTELCHUCK  CONTADOR  \n",
            "71            9     13820  \n",
            "163           4     13912  \n",
            "254           1     14003  \n",
            "295           3     14045  \n",
            "460           4     14210  \n",
            "\n",
            "[5 rows x 61 columns]\n"
          ]
        }
      ],
      "source": [
        "#deletando os campos nulos\n",
        "SIM= SIM.dropna(subset=['CODMUNNATU','DTNASC','SEXO','RACACOR','GRAVIDEZ','SEMAGESTAC','GESTACAO','PARTO','PESO'])\n",
        "print(SIM.head())\n",
        "\n",
        "SINASC= SINASC.dropna(subset=['CODMUNNASC','DTNASC','SEXO','RACACOR','GRAVIDEZ','SEMAGESTAC','GESTACAO','PARTO','PESO'])\n",
        "print(SINASC.head())"
      ]
    },
    {
      "cell_type": "code",
      "execution_count": null,
      "metadata": {
        "id": "OjDgIwodjn_C",
        "colab": {
          "base_uri": "https://localhost:8080/"
        },
        "outputId": "a14fc76b-d1aa-42e0-9fae-abaf80a919cc"
      },
      "outputs": [
        {
          "output_type": "stream",
          "name": "stderr",
          "text": [
            "<ipython-input-8-b4d328881f6a>:8: SettingWithCopyWarning: \n",
            "A value is trying to be set on a copy of a slice from a DataFrame.\n",
            "Try using .loc[row_indexer,col_indexer] = value instead\n",
            "\n",
            "See the caveats in the documentation: https://pandas.pydata.org/pandas-docs/stable/user_guide/indexing.html#returning-a-view-versus-a-copy\n",
            "  SINASC['CODMUNNASC'] = SINASC['CODMUNNASC'].astype(int)\n",
            "<ipython-input-8-b4d328881f6a>:9: SettingWithCopyWarning: \n",
            "A value is trying to be set on a copy of a slice from a DataFrame.\n",
            "Try using .loc[row_indexer,col_indexer] = value instead\n",
            "\n",
            "See the caveats in the documentation: https://pandas.pydata.org/pandas-docs/stable/user_guide/indexing.html#returning-a-view-versus-a-copy\n",
            "  SINASC['RACACOR'] = SINASC['RACACOR'].astype(int)\n",
            "<ipython-input-8-b4d328881f6a>:10: SettingWithCopyWarning: \n",
            "A value is trying to be set on a copy of a slice from a DataFrame.\n",
            "Try using .loc[row_indexer,col_indexer] = value instead\n",
            "\n",
            "See the caveats in the documentation: https://pandas.pydata.org/pandas-docs/stable/user_guide/indexing.html#returning-a-view-versus-a-copy\n",
            "  SINASC['GRAVIDEZ'] = SINASC['GRAVIDEZ'].astype(int)\n",
            "<ipython-input-8-b4d328881f6a>:11: SettingWithCopyWarning: \n",
            "A value is trying to be set on a copy of a slice from a DataFrame.\n",
            "Try using .loc[row_indexer,col_indexer] = value instead\n",
            "\n",
            "See the caveats in the documentation: https://pandas.pydata.org/pandas-docs/stable/user_guide/indexing.html#returning-a-view-versus-a-copy\n",
            "  SINASC['GESTACAO'] = SINASC['GESTACAO'].astype(int)\n",
            "<ipython-input-8-b4d328881f6a>:12: SettingWithCopyWarning: \n",
            "A value is trying to be set on a copy of a slice from a DataFrame.\n",
            "Try using .loc[row_indexer,col_indexer] = value instead\n",
            "\n",
            "See the caveats in the documentation: https://pandas.pydata.org/pandas-docs/stable/user_guide/indexing.html#returning-a-view-versus-a-copy\n",
            "  SINASC['SEMAGESTAC'] = SINASC['SEMAGESTAC'].astype(int)\n",
            "<ipython-input-8-b4d328881f6a>:13: SettingWithCopyWarning: \n",
            "A value is trying to be set on a copy of a slice from a DataFrame.\n",
            "Try using .loc[row_indexer,col_indexer] = value instead\n",
            "\n",
            "See the caveats in the documentation: https://pandas.pydata.org/pandas-docs/stable/user_guide/indexing.html#returning-a-view-versus-a-copy\n",
            "  SINASC['PARTO'] = SINASC['PARTO'].astype(int)\n",
            "<ipython-input-8-b4d328881f6a>:15: SettingWithCopyWarning: \n",
            "A value is trying to be set on a copy of a slice from a DataFrame.\n",
            "Try using .loc[row_indexer,col_indexer] = value instead\n",
            "\n",
            "See the caveats in the documentation: https://pandas.pydata.org/pandas-docs/stable/user_guide/indexing.html#returning-a-view-versus-a-copy\n",
            "  SINASC['PESO'] = SINASC['PESO'].astype(int)\n"
          ]
        }
      ],
      "source": [
        "SIM['DTNASC'] = SIM['DTNASC'].astype(int)\n",
        "SIM['CODMUNNATU'] = SIM['CODMUNNATU'].astype(int)\n",
        "SIM['RACACOR'] = SIM['RACACOR'].astype(int)\n",
        "SIM['GRAVIDEZ'] = SIM['GRAVIDEZ'].astype(int)\n",
        "SIM['GESTACAO'] = SIM['GESTACAO'].astype(int)\n",
        "SIM['SEMAGESTAC'] = SIM['SEMAGESTAC'].astype(int)\n",
        "SIM['PARTO'] = SIM['PARTO'].astype(int)\n",
        "SINASC['CODMUNNASC'] = SINASC['CODMUNNASC'].astype(int)\n",
        "SINASC['RACACOR'] = SINASC['RACACOR'].astype(int)\n",
        "SINASC['GRAVIDEZ'] = SINASC['GRAVIDEZ'].astype(int)\n",
        "SINASC['GESTACAO'] = SINASC['GESTACAO'].astype(int)\n",
        "SINASC['SEMAGESTAC'] = SINASC['SEMAGESTAC'].astype(int)\n",
        "SINASC['PARTO'] = SINASC['PARTO'].astype(int)\n",
        "SIM['PESO']=SIM['PESO'].astype(int)\n",
        "SINASC['PESO'] = SINASC['PESO'].astype(int)\n"
      ]
    },
    {
      "cell_type": "code",
      "execution_count": null,
      "metadata": {
        "colab": {
          "base_uri": "https://localhost:8080/"
        },
        "id": "iG3GLIIbhRHQ",
        "outputId": "efaf9bc5-bb92-4733-970e-0f1de24118a5"
      },
      "outputs": [
        {
          "output_type": "stream",
          "name": "stdout",
          "text": [
            "CODMUNNATU    int64\n",
            "DTNASC        int64\n",
            "SEXO          int64\n",
            "RACACOR       int64\n",
            "GRAVIDEZ      int64\n",
            "SEMAGESTAC    int64\n",
            "GESTACAO      int64\n",
            "PARTO         int64\n",
            "PESO          int64\n",
            "dtype: object\n",
            "CODMUNNASC    int64\n",
            "DTNASC        int64\n",
            "SEXO          int64\n",
            "RACACOR       int64\n",
            "GRAVIDEZ      int64\n",
            "SEMAGESTAC    int64\n",
            "GESTACAO      int64\n",
            "PARTO         int64\n",
            "PESO          int64\n",
            "dtype: object\n"
          ]
        }
      ],
      "source": [
        "chavesim = ['CODMUNNATU','DTNASC','SEXO','RACACOR','GRAVIDEZ','SEMAGESTAC','GESTACAO','PARTO','PESO']\n",
        "tiposSim = SIM[chavesim].dtypes\n",
        "print(tiposSim)\n",
        "\n",
        "chavesinasc = ['CODMUNNASC','DTNASC','SEXO','RACACOR','GRAVIDEZ','SEMAGESTAC','GESTACAO','PARTO','PESO']\n",
        "tiposSinasc = SINASC[chavesinasc].dtypes\n",
        "print(tiposSinasc)"
      ]
    },
    {
      "cell_type": "code",
      "execution_count": null,
      "metadata": {
        "colab": {
          "base_uri": "https://localhost:8080/"
        },
        "id": "yfQk088LJh9_",
        "outputId": "7091541d-ee39-475c-8c63-941233b8f733"
      },
      "outputs": [
        {
          "output_type": "stream",
          "name": "stdout",
          "text": [
            "         ORIGEM  TIPOBITO   DTOBITO  HORAOBITO  NATURAL  CODMUNNATU    DTNASC  \\\n",
            "24            1         2  15022019      145.0    835.0      352010  15032018   \n",
            "59            1         2   5022019     1115.0    823.0      230730   5022019   \n",
            "86            1         2  13022019     1353.0    833.0      330455  12022019   \n",
            "109           1         2   4022019      650.0    822.0      220770  30082018   \n",
            "255           1         2   1012019     2100.0    812.0      120040  11062018   \n",
            "...         ...       ...       ...        ...      ...         ...       ...   \n",
            "1349772       1         2  11092019     1000.0    813.0      130140  11092019   \n",
            "1349779       1         2  30072019        NaN    813.0      130370  27102018   \n",
            "1349785       1         2   9072019        NaN    813.0      130230   7072019   \n",
            "1349786       1         2  23072019     1630.0    815.0      150375  23072019   \n",
            "1349791       1         2  11072019        NaN    813.0      130140   6072019   \n",
            "\n",
            "        IDADE  SEXO  RACACOR  ...  NUDIASINF    DTCADINF  MORTEPARTO  \\\n",
            "24        311     2        1  ...        NaN  22032019.0         3.0   \n",
            "59        101     2        4  ...        NaN  13032019.0         3.0   \n",
            "86        120     1        4  ...        NaN  27052019.0         3.0   \n",
            "109       305     1        4  ...        NaN  13032019.0         3.0   \n",
            "255       306     1        4  ...        NaN  15072019.0         3.0   \n",
            "...       ...   ...      ...  ...        ...         ...         ...   \n",
            "1349772   100     2        5  ...        NaN         NaN         NaN   \n",
            "1349779   309     2        5  ...        NaN  24122019.0         9.0   \n",
            "1349785   202     1        5  ...        NaN   6082020.0         3.0   \n",
            "1349786   110     2        5  ...        NaN   9032020.0         3.0   \n",
            "1349791   205     1        5  ...        NaN         NaN         NaN   \n",
            "\n",
            "          DTCONCASO  FONTESINF  ALTCAUSA  CONTADOR  UNID_IDADE  idade_tratada  \\\n",
            "24       22032019.0        NaN       2.0        26           3             11   \n",
            "59       13032019.0        NaN       2.0        63           1             01   \n",
            "86       27052019.0        NaN       1.0        90           1             20   \n",
            "109       7022019.0        NaN       2.0       114           3             05   \n",
            "255      16052019.0        NaN       2.0       260           3             06   \n",
            "...             ...        ...       ...       ...         ...            ...   \n",
            "1349772         NaN        NaN       NaN   1378877           1             00   \n",
            "1349779   2082019.0        NaN       2.0   1378884           3             09   \n",
            "1349785   6082020.0        NaN       2.0   1378891           2             02   \n",
            "1349786  28022020.0        NaN       1.0   1378892           1             10   \n",
            "1349791         NaN        NaN       NaN   1378897           2             05   \n",
            "\n",
            "              Chave  \n",
            "24       15387459.0  \n",
            "59        5253791.0  \n",
            "86       12355055.0  \n",
            "109      30306201.0  \n",
            "255      11185445.0  \n",
            "...             ...  \n",
            "1349772  11224231.0  \n",
            "1349779  27235665.0  \n",
            "1349785   7204432.0  \n",
            "1349786  23224762.0  \n",
            "1349791   6204791.0  \n",
            "\n",
            "[24868 rows x 90 columns]\n"
          ]
        }
      ],
      "source": [
        "# criando as chaves\n",
        "\n",
        "SIM['Chave'] = SIM.apply(lambda row: row['CODMUNNATU']+ row['DTNASC'] + row['SEXO']+ row['RACACOR'] +row['GRAVIDEZ'] + row['SEMAGESTAC'] + row['GESTACAO']+row['PARTO'] +row['PESO']+ row['IDADEMAE'], axis =1)\n",
        "SIM = SIM.dropna(subset = ['Chave'])\n",
        "\n",
        "print(SIM)"
      ]
    },
    {
      "cell_type": "code",
      "execution_count": null,
      "metadata": {
        "colab": {
          "base_uri": "https://localhost:8080/"
        },
        "id": "ZMUQJLqSMIV0",
        "outputId": "4df0b735-dddf-406d-d2a0-5a2a87e7b826"
      },
      "outputs": [
        {
          "output_type": "stream",
          "name": "stdout",
          "text": [
            "         ORIGEM   CODESTAB  CODMUNNASC  LOCNASC  IDADEMAE  ESTCIVMAE  ESCMAE  \\\n",
            "71            1  2001020.0      120005        2      19.0        1.0     4.0   \n",
            "163           1  2001500.0      120010        1      42.0        5.0     NaN   \n",
            "254           1  2001500.0      120010        1      19.0        5.0     4.0   \n",
            "295           1  2001500.0      120010        1      23.0        5.0     4.0   \n",
            "460           1  2001500.0      120010        1      28.0        2.0     5.0   \n",
            "...         ...        ...         ...      ...       ...        ...     ...   \n",
            "2944607       1  2452383.0      210530        1      24.0        1.0     4.0   \n",
            "2944649       1  2452383.0      210530        1      27.0        1.0     4.0   \n",
            "2944706       1  2452383.0      210530        1      19.0        1.0     4.0   \n",
            "2944742       1  2452383.0      210530        1      18.0        1.0     4.0   \n",
            "2944743       1  2452383.0      210530        1      18.0        1.0     4.0   \n",
            "\n",
            "         CODOCUPMAE  QTDFILVIVO  QTDFILMORT  ...  DTDECLARAC  ESCMAEAGR1  \\\n",
            "71         999991.0         1.0         0.0  ...         NaN         NaN   \n",
            "163        999992.0         4.0         0.0  ...   4022019.0         NaN   \n",
            "254        612005.0         1.0         1.0  ...  12032019.0        12.0   \n",
            "295             NaN         NaN         NaN  ...  23032019.0        12.0   \n",
            "460        223115.0         NaN         NaN  ...  22052019.0         8.0   \n",
            "...             ...         ...         ...  ...         ...         ...   \n",
            "2944607    622105.0         1.0         0.0  ...  11092018.0         6.0   \n",
            "2944649    999992.0         1.0         0.0  ...  11102018.0         6.0   \n",
            "2944706    999992.0         0.0         0.0  ...  20112018.0         5.0   \n",
            "2944742    999992.0         1.0         0.0  ...  15122018.0         4.0   \n",
            "2944743    999992.0         1.0         0.0  ...  15122018.0         4.0   \n",
            "\n",
            "         STDNEPIDEM  STDNNOVA  CODPAISRES  TPROBSON  PARIDADE  KOTELCHUCK  \\\n",
            "71              0.0         1         1.0        11         1           9   \n",
            "163             0.0         1         1.0        10         1           4   \n",
            "254             0.0         1         1.0        10         1           1   \n",
            "295             0.0         1         1.0        10         0           3   \n",
            "460             0.0         1         1.0        10         0           4   \n",
            "...             ...       ...         ...       ...       ...         ...   \n",
            "2944607         0.0         1         1.0        10         1           2   \n",
            "2944649         0.0         1         1.0        10         1           4   \n",
            "2944706         0.0         1         1.0        10         0           3   \n",
            "2944742         0.0         1         1.0        10         1           3   \n",
            "2944743         0.0         1         1.0         8         1           3   \n",
            "\n",
            "         CONTADOR       Chave  \n",
            "71          13820  20174045.0  \n",
            "163         13912   4145013.0  \n",
            "254         14003  12152835.0  \n",
            "295         14045  23153271.0  \n",
            "460         14210  22145625.0  \n",
            "...           ...         ...  \n",
            "2944607   1707090  11303414.0  \n",
            "2944649   1707833  11313938.0  \n",
            "2944706   1708614  20324156.0  \n",
            "2944742   1709184  15334307.0  \n",
            "2944743   1709185  15334273.0  \n",
            "\n",
            "[87051 rows x 62 columns]\n"
          ]
        }
      ],
      "source": [
        "SINASC['Chave'] = SINASC.apply(lambda row: row['CODMUNNASC']+ row['DTNASC'] + row['SEXO']+ row['RACACOR'] +row['GRAVIDEZ'] + row['SEMAGESTAC'] + row['GESTACAO']+row['PARTO'] +row['PESO'] + row['IDADEMAE'], axis =1)\n",
        "SINASC = SINASC.dropna(subset=['Chave'])\n",
        "print(SINASC)"
      ]
    }
  ],
  "metadata": {
    "colab": {
      "provenance": []
    },
    "kernelspec": {
      "display_name": "Python 3",
      "name": "python3"
    },
    "language_info": {
      "name": "python"
    }
  },
  "nbformat": 4,
  "nbformat_minor": 0
}